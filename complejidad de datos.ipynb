{
 "cells": [
  {
   "cell_type": "code",
   "execution_count": 6,
   "metadata": {},
   "outputs": [
    {
     "name": "stdout",
     "output_type": "stream",
     "text": [
      "Defaulting to user installation because normal site-packages is not writeable"
     ]
    },
    {
     "name": "stderr",
     "output_type": "stream",
     "text": [
      "\n",
      "[notice] A new release of pip is available: 24.2 -> 24.3.1\n",
      "[notice] To update, run: python.exe -m pip install --upgrade pip\n"
     ]
    },
    {
     "name": "stdout",
     "output_type": "stream",
     "text": [
      "\n",
      "Requirement already satisfied: imbalanced-learn in c:\\users\\vicda\\appdata\\roaming\\python\\python312\\site-packages (0.12.4)\n",
      "Requirement already satisfied: numpy>=1.17.3 in c:\\users\\vicda\\appdata\\roaming\\python\\python312\\site-packages (from imbalanced-learn) (1.26.4)\n",
      "Requirement already satisfied: scipy>=1.5.0 in c:\\users\\vicda\\appdata\\roaming\\python\\python312\\site-packages (from imbalanced-learn) (1.13.1)\n",
      "Requirement already satisfied: scikit-learn>=1.0.2 in c:\\users\\vicda\\appdata\\roaming\\python\\python312\\site-packages (from imbalanced-learn) (1.5.2)\n",
      "Requirement already satisfied: joblib>=1.1.1 in c:\\program files\\python312\\lib\\site-packages (from imbalanced-learn) (1.4.2)\n",
      "Requirement already satisfied: threadpoolctl>=2.0.0 in c:\\users\\vicda\\appdata\\roaming\\python\\python312\\site-packages (from imbalanced-learn) (3.5.0)\n"
     ]
    }
   ],
   "source": [
    "!pip install imbalanced-learn\n"
   ]
  },
  {
   "cell_type": "markdown",
   "metadata": {},
   "source": [
    "# Sección 1: Cargar Librerías y Dataset\n",
    "En esta sección se importan las librerías necesarias y se carga el dataset para su análisis.\n"
   ]
  },
  {
   "cell_type": "code",
   "execution_count": 7,
   "metadata": {},
   "outputs": [
    {
     "name": "stdout",
     "output_type": "stream",
     "text": [
      "\n",
      "Información del dataset antes de la transformación:\n",
      "<class 'pandas.core.frame.DataFrame'>\n",
      "RangeIndex: 683 entries, 0 to 682\n",
      "Data columns (total 11 columns):\n",
      " #   Column                       Non-Null Count  Dtype\n",
      "---  ------                       --------------  -----\n",
      " 0   code                         683 non-null    int64\n",
      " 1   clump_thickness              683 non-null    int64\n",
      " 2   uniformity_of_cell_size      683 non-null    int64\n",
      " 3   uniformity_of_cell_shape     683 non-null    int64\n",
      " 4   marginal_adhesion            683 non-null    int64\n",
      " 5   single_epithelial_cell_size  683 non-null    int64\n",
      " 6   bare_nuclei                  683 non-null    int64\n",
      " 7   bland_chromatin              683 non-null    int64\n",
      " 8   normal_nucleoli              683 non-null    int64\n",
      " 9   mitoses                      683 non-null    int64\n",
      " 10  class                        683 non-null    int64\n",
      "dtypes: int64(11)\n",
      "memory usage: 58.8 KB\n",
      "\n",
      "Resumen estadístico inicial:\n",
      "               code  clump_thickness  uniformity_of_cell_size  \\\n",
      "count  6.830000e+02       683.000000               683.000000   \n",
      "mean   1.076720e+06         4.442167                 3.150805   \n",
      "std    6.206440e+05         2.820761                 3.065145   \n",
      "min    6.337500e+04         1.000000                 1.000000   \n",
      "25%    8.776170e+05         2.000000                 1.000000   \n",
      "50%    1.171795e+06         4.000000                 1.000000   \n",
      "75%    1.238705e+06         6.000000                 5.000000   \n",
      "max    1.345435e+07        10.000000                10.000000   \n",
      "\n",
      "       uniformity_of_cell_shape  marginal_adhesion  \\\n",
      "count                683.000000         683.000000   \n",
      "mean                   3.215227           2.830161   \n",
      "std                    2.988581           2.864562   \n",
      "min                    1.000000           1.000000   \n",
      "25%                    1.000000           1.000000   \n",
      "50%                    1.000000           1.000000   \n",
      "75%                    5.000000           4.000000   \n",
      "max                   10.000000          10.000000   \n",
      "\n",
      "       single_epithelial_cell_size  bare_nuclei  bland_chromatin  \\\n",
      "count                   683.000000   683.000000       683.000000   \n",
      "mean                      3.234261     3.544656         3.445095   \n",
      "std                       2.223085     3.643857         2.449697   \n",
      "min                       1.000000     1.000000         1.000000   \n",
      "25%                       2.000000     1.000000         2.000000   \n",
      "50%                       2.000000     1.000000         3.000000   \n",
      "75%                       4.000000     6.000000         5.000000   \n",
      "max                      10.000000    10.000000        10.000000   \n",
      "\n",
      "       normal_nucleoli     mitoses       class  \n",
      "count       683.000000  683.000000  683.000000  \n",
      "mean          2.869693    1.603221    2.699854  \n",
      "std           3.052666    1.732674    0.954592  \n",
      "min           1.000000    1.000000    2.000000  \n",
      "25%           1.000000    1.000000    2.000000  \n",
      "50%           1.000000    1.000000    2.000000  \n",
      "75%           4.000000    1.000000    4.000000  \n",
      "max          10.000000   10.000000    4.000000  \n"
     ]
    }
   ],
   "source": [
    "# Importar bibliotecas necesarias\n",
    "import pandas as pd\n",
    "import numpy as np\n",
    "from sklearn.impute import SimpleImputer\n",
    "from imblearn.over_sampling import SMOTE\n",
    "import matplotlib.pyplot as plt\n",
    "import seaborn as sns\n",
    "\n",
    "# Cargar el dataset (asegúrate de que el archivo está en el directorio correcto)\n",
    "data = pd.read_csv('breast-cancer-wisconsin.csv')\n",
    "\n",
    "# Exploración inicial del dataset\n",
    "print(\"\\nInformación del dataset antes de la transformación:\")\n",
    "data.info()\n",
    "print(\"\\nResumen estadístico inicial:\")\n",
    "print(data.describe())\n"
   ]
  },
  {
   "cell_type": "markdown",
   "metadata": {},
   "source": [
    "# Sección 2: Análisis de Valores Faltantes\n",
    "Identificamos y tratamos los valores faltantes en el dataset utilizando imputación.\n"
   ]
  },
  {
   "cell_type": "code",
   "execution_count": 8,
   "metadata": {},
   "outputs": [
    {
     "name": "stdout",
     "output_type": "stream",
     "text": [
      "\n",
      "Valores faltantes por columna:\n",
      "code                           0\n",
      "clump_thickness                0\n",
      "uniformity_of_cell_size        0\n",
      "uniformity_of_cell_shape       0\n",
      "marginal_adhesion              0\n",
      "single_epithelial_cell_size    0\n",
      "bare_nuclei                    0\n",
      "bland_chromatin                0\n",
      "normal_nucleoli                0\n",
      "mitoses                        0\n",
      "class                          0\n",
      "dtype: int64\n",
      "\n",
      "Valores faltantes después de la imputación:\n",
      "code                           0\n",
      "clump_thickness                0\n",
      "uniformity_of_cell_size        0\n",
      "uniformity_of_cell_shape       0\n",
      "marginal_adhesion              0\n",
      "single_epithelial_cell_size    0\n",
      "bare_nuclei                    0\n",
      "bland_chromatin                0\n",
      "normal_nucleoli                0\n",
      "mitoses                        0\n",
      "class                          0\n",
      "dtype: int64\n"
     ]
    }
   ],
   "source": [
    "# Identificar valores faltantes\n",
    "missing_values = data.isnull().sum()\n",
    "print(\"\\nValores faltantes por columna:\")\n",
    "print(missing_values)\n",
    "\n",
    "# Imputar valores faltantes con la media\n",
    "imputer = SimpleImputer(strategy='mean')\n",
    "data_imputed = pd.DataFrame(imputer.fit_transform(data), columns=data.columns)\n",
    "print(\"\\nValores faltantes después de la imputación:\")\n",
    "print(data_imputed.isnull().sum())\n"
   ]
  },
  {
   "cell_type": "markdown",
   "metadata": {},
   "source": [
    "# Sección 3: Análisis de Clases\n",
    "Se analiza la distribución de las clases antes del balanceo.\n"
   ]
  },
  {
   "cell_type": "code",
   "execution_count": 9,
   "metadata": {},
   "outputs": [
    {
     "name": "stdout",
     "output_type": "stream",
     "text": [
      "\n",
      "Distribución de clases antes del balanceo:\n",
      "class\n",
      "2.0    444\n",
      "4.0    239\n",
      "Name: count, dtype: int64\n"
     ]
    },
    {
     "name": "stderr",
     "output_type": "stream",
     "text": [
      "C:\\Users\\vicda\\AppData\\Local\\Temp\\ipykernel_2960\\468185436.py:9: FutureWarning: \n",
      "\n",
      "Passing `palette` without assigning `hue` is deprecated and will be removed in v0.14.0. Assign the `x` variable to `hue` and set `legend=False` for the same effect.\n",
      "\n",
      "  sns.barplot(x=distribution.index, y=distribution.values, palette='viridis')\n"
     ]
    },
    {
     "data": {
      "image/png": "[encoded data removed]",
      "text/plain": [
       "<Figure size 800x600 with 1 Axes>"
      ]
     },
     "metadata": {},
     "output_type": "display_data"
    }
   ],
   "source": [
    "# Analizar la distribución de clases antes del balanceo\n",
    "class_column = 'class'  # Cambiado a 'class' para este dataset\n",
    "distribution = data_imputed[class_column].value_counts()\n",
    "print(\"\\nDistribución de clases antes del balanceo:\")\n",
    "print(distribution)\n",
    "\n",
    "# Visualizar la distribución de clases\n",
    "plt.figure(figsize=(8, 6))\n",
    "sns.barplot(x=distribution.index, y=distribution.values, palette='viridis')\n",
    "plt.title('Distribución de clases antes del balanceo')\n",
    "plt.xlabel('Clase')\n",
    "plt.ylabel('Número de muestras')\n",
    "plt.show()\n"
   ]
  },
  {
   "cell_type": "markdown",
   "metadata": {},
   "source": [
    "# Sección 4: Balanceo de Clases con SMOTE\n",
    "Se utiliza la técnica SMOTE para balancear las clases en el dataset.\n"
   ]
  },
  {
   "cell_type": "code",
   "execution_count": 10,
   "metadata": {},
   "outputs": [
    {
     "name": "stderr",
     "output_type": "stream",
     "text": [
      "C:\\Users\\vicda\\AppData\\Local\\Temp\\ipykernel_2960\\2716281078.py:17: FutureWarning: \n",
      "\n",
      "Passing `palette` without assigning `hue` is deprecated and will be removed in v0.14.0. Assign the `x` variable to `hue` and set `legend=False` for the same effect.\n",
      "\n",
      "  sns.barplot(x=distribution_after.index, y=distribution_after.values, palette='viridis')\n"
     ]
    },
    {
     "name": "stdout",
     "output_type": "stream",
     "text": [
      "\n",
      "Distribución de clases después del balanceo:\n",
      "class\n",
      "2.0    444\n",
      "4.0    444\n",
      "Name: count, dtype: int64\n"
     ]
    },
    {
     "data": {
      "image/png": "[encoded data removed]",
      "text/plain": [
       "<Figure size 800x600 with 1 Axes>"
      ]
     },
     "metadata": {},
     "output_type": "display_data"
    }
   ],
   "source": [
    "# Balanceo de clases con SMOTE\n",
    "X = data_imputed.drop(columns=[class_column])\n",
    "y = data_imputed[class_column]\n",
    "smote = SMOTE(random_state=42)\n",
    "X_resampled, y_resampled = smote.fit_resample(X, y)\n",
    "\n",
    "# Crear un nuevo DataFrame con los datos balanceados\n",
    "data_balanced = pd.concat([pd.DataFrame(X_resampled, columns=X.columns), pd.DataFrame(y_resampled, columns=[class_column])], axis=1)\n",
    "\n",
    "# Analizar la distribución de clases después del balanceo\n",
    "distribution_after = data_balanced[class_column].value_counts()\n",
    "print(\"\\nDistribución de clases después del balanceo:\")\n",
    "print(distribution_after)\n",
    "\n",
    "# Visualizar la distribución de clases después del balanceo\n",
    "plt.figure(figsize=(8, 6))\n",
    "sns.barplot(x=distribution_after.index, y=distribution_after.values, palette='viridis')\n",
    "plt.title('Distribución de clases después del balanceo')\n",
    "plt.xlabel('Clase')\n",
    "plt.ylabel('Número de muestras')\n",
    "plt.show()\n"
   ]
  },
  {
   "cell_type": "markdown",
   "metadata": {},
   "source": [
    "# Sección 5: Guardar Dataset Transformado\n",
    "Guardamos el dataset transformado en un archivo CSV para uso posterior.\n"
   ]
  },
  {
   "cell_type": "code",
   "execution_count": 11,
   "metadata": {},
   "outputs": [
    {
     "name": "stdout",
     "output_type": "stream",
     "text": [
      "\n",
      "El dataset transformado ha sido guardado en: breast-cancer-wisconsin-transformado.csv\n"
     ]
    }
   ],
   "source": [
    "# Guardar el dataset transformado\n",
    "output_path = 'breast-cancer-wisconsin-transformado.csv'\n",
    "data_balanced.to_csv(output_path, index=False)\n",
    "print(f\"\\nEl dataset transformado ha sido guardado en: {output_path}\")\n"
   ]
  }
 ],
 "metadata": {
  "kernelspec": {
   "display_name": "Python 3",
   "language": "python",
   "name": "python3"
  },
  "language_info": {
   "codemirror_mode": {
    "name": "ipython",
    "version": 3
   },
   "file_extension": ".py",
   "mimetype": "text/x-python",
   "name": "python",
   "nbconvert_exporter": "python",
   "pygments_lexer": "ipython3",
   "version": "3.12.6"
  }
 },
 "nbformat": 4,
 "nbformat_minor": 2
}
